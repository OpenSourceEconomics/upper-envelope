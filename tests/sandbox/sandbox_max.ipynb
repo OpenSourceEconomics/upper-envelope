{
 "cells": [
  {
   "cell_type": "code",
   "outputs": [],
   "source": [
    "import numpy as np\n",
    "import jax"
   ],
   "metadata": {
    "collapsed": false,
    "ExecuteTime": {
     "end_time": "2024-03-18T22:12:32.282416237Z",
     "start_time": "2024-03-18T22:12:31.923218275Z"
    }
   },
   "id": "d132369dc36257ce",
   "execution_count": 1
  },
  {
   "cell_type": "code",
   "outputs": [],
   "source": [
    "from upper_envelope.upper_envelope_jax import fast_upper_envelope"
   ],
   "metadata": {
    "collapsed": false,
    "ExecuteTime": {
     "end_time": "2024-03-18T22:12:32.294241317Z",
     "start_time": "2024-03-18T22:12:32.286201274Z"
    }
   },
   "id": "a8e06421938e6f93",
   "execution_count": 2
  },
  {
   "cell_type": "code",
   "execution_count": 3,
   "id": "initial_id",
   "metadata": {
    "collapsed": true,
    "ExecuteTime": {
     "end_time": "2024-03-18T22:12:32.442451752Z",
     "start_time": "2024-03-18T22:12:32.439629028Z"
    }
   },
   "outputs": [],
   "source": [
    "policy_egm = np.genfromtxt(\n",
    "    \"../resources/upper_envelope_period_tests/pol10.csv\", delimiter=\",\"\n",
    ")\n",
    "value_egm = np.genfromtxt(\n",
    "    \"../resources/upper_envelope_period_tests/val10.csv\", delimiter=\",\"\n",
    ")\n",
    "\n",
    "partial_upper = jax.jit(\n",
    "    lambda endog, value, policy, expected_value_zero_savings: (\n",
    "        fast_upper_envelope(\n",
    "            endog_grid=endog,\n",
    "            value=value,\n",
    "            policy=policy,\n",
    "            expected_value_zero_savings=expected_value_zero_savings,\n",
    "            num_iter=int(1.2 * value.shape[0]),\n",
    "        )\n",
    "    )\n",
    ")"
   ]
  },
  {
   "cell_type": "code",
   "outputs": [
    {
     "name": "stdout",
     "output_type": "stream",
     "text": [
      "134 µs ± 709 ns per loop (mean ± std. dev. of 7 runs, 10,000 loops each)\n"
     ]
    }
   ],
   "source": [
    "jax.block_until_ready(\n",
    "    partial_upper(\n",
    "        policy_egm[0, 1:], value_egm[1, 1:], policy_egm[1, 1:], value_egm[1, 0]\n",
    "    )\n",
    ")\n",
    "%timeit jax.block_until_ready(partial_upper(policy_egm[0, 1:], value_egm[1, 1:], policy_egm[1, 1:], value_egm[1, 0]))"
   ],
   "metadata": {
    "collapsed": false,
    "ExecuteTime": {
     "end_time": "2024-03-18T22:12:44.416590256Z",
     "start_time": "2024-03-18T22:12:32.973021034Z"
    }
   },
   "id": "d2b19982656980f",
   "execution_count": 4
  },
  {
   "cell_type": "code",
   "outputs": [
    {
     "name": "stdout",
     "output_type": "stream",
     "text": [
      "134 µs ± 2.05 µs per loop (mean ± std. dev. of 7 runs, 10,000 loops each)\n"
     ]
    }
   ],
   "source": [
    "jax.block_until_ready(\n",
    "    partial_upper(\n",
    "        policy_egm[0, 1:], value_egm[1, 1:], policy_egm[1, 1:], value_egm[1, 0]\n",
    "    )\n",
    ")\n",
    "%timeit jax.block_until_ready(partial_upper(policy_egm[0, 1:], value_egm[1, 1:], policy_egm[1, 1:], value_egm[1, 0]))"
   ],
   "metadata": {
    "collapsed": false,
    "ExecuteTime": {
     "end_time": "2024-03-18T22:09:20.083880331Z",
     "start_time": "2024-03-18T22:09:08.747221891Z"
    }
   },
   "id": "4322ab413714509c",
   "execution_count": 10
  },
  {
   "cell_type": "code",
   "outputs": [
    {
     "data": {
      "text/plain": "26.799999999999997"
     },
     "execution_count": 8,
     "metadata": {},
     "output_type": "execute_result"
    }
   ],
   "source": [
    "134 * 200_000 * 10 ** (-6)"
   ],
   "metadata": {
    "collapsed": false,
    "ExecuteTime": {
     "end_time": "2024-03-18T22:11:27.045820756Z",
     "start_time": "2024-03-18T22:11:27.038880445Z"
    }
   },
   "id": "d2e779d385e79c00",
   "execution_count": 8
  },
  {
   "cell_type": "code",
   "outputs": [],
   "source": [],
   "metadata": {
    "collapsed": false
   },
   "id": "35d1c23257243b53"
  }
 ],
 "metadata": {
  "kernelspec": {
   "display_name": "Python 3",
   "language": "python",
   "name": "python3"
  },
  "language_info": {
   "codemirror_mode": {
    "name": "ipython",
    "version": 2
   },
   "file_extension": ".py",
   "mimetype": "text/x-python",
   "name": "python",
   "nbconvert_exporter": "python",
   "pygments_lexer": "ipython2",
   "version": "2.7.6"
  }
 },
 "nbformat": 4,
 "nbformat_minor": 5
}
